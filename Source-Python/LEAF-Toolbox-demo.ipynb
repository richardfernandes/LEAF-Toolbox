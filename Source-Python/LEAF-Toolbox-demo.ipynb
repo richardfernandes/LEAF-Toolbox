{
 "cells": [
  {
   "cell_type": "markdown",
   "metadata": {
    "tags": []
   },
   "source": [
    "# LEAFToolbox for Sites\n",
    "Applies the LEAF-ToolBox for mapping vegetation using satellite imagery over a list of sites, each defined using time stamped vector geographical objects.\n",
    "Cite as Fernandes, R. et al., 2021, \"LEAF Toolbox\", Canada Centre for Remote Sensing, https://github.com/rfernand387/LEAF-Toolbox/wiki, DOI: 10.5281/zenodo.4321298.\n",
    "\n",
    "\n",
    "LEAF currently supports two algorithms: \n",
    "\n",
    "SL2PV0 is the algorithm defined by Weiss and Baret (2016) with an update in Weiss and Baret (2020).  \n",
    "\n",
    "\n",
    "SL2PV1.1 defined in  Fernandes et al. 2024 that attempts to correct for biases in crown and shoot clumping over forests observed in SL2PV0.\n",
    "\n",
    "\n",
    "Refer to https://github.com/rfernand387/LEAF-Toolbox/tree/master/Source-Python for configuration of anaconda environment.\n",
    "\n",
    "\n",
    "Weiss, M. and Baret, F. 2016. S2ToolBox Level 2 products: LAI, FAPAR, FCOVER, 1.1. ed.\n",
    "Institut National de la Recherche Agronomique, Avignon, France. https://step.esa.\n",
    "int/docs/extra/ATBD_S2ToolBox_L2B_V1.1.pdf.\n",
    "\n",
    "Weiss, M., and Baret, F., 2020. S2ToolBox Level 2 Products: LAI, FAPAR, FCOVER, 2.0. ed.\n",
    "Institut National de la Recherche Agronomique, Avignon, France. https://step.esa.\n",
    "int/docs/extra/ATBD_S2ToolBox_L2B_V2.0.pdf.\n",
    "\n",
    "Fernandes, R., Canisius, F., Harvey, K., Hong, G., MacDougall, C., Shah, H., Sun, L., 2024. Evidence of a bias-variance trade off when correcting for bias in Sentinel 2 forest LAI retrievals using radiative transfer models. Remote Sensing of EnvironmentRemote Sens. Environ. 305. doi:10.1016/j.rse.2024.114060.\n"
   ]
  },
  {
   "cell_type": "markdown",
   "metadata": {
    "tags": []
   },
   "source": [
    "## Setup Environment"
   ]
  },
  {
   "cell_type": "code",
   "execution_count": 3,
   "metadata": {},
   "outputs": [
    {
     "data": {
      "text/html": [
       "<p>To authorize access needed by Earth Engine, open the following\n",
       "        URL in a web browser and follow the instructions:</p>\n",
       "        <p><a href=https://code.earthengine.google.com/client-auth?scopes=https%3A//www.googleapis.com/auth/earthengine%20https%3A//www.googleapis.com/auth/cloud-platform%20https%3A//www.googleapis.com/auth/devstorage.full_control&request_id=_BkUwK4yMGsc1w9ypY0E6IGae-ZcmLwm0cvK01q4P-8&tc=P2yT4QAu3QbpFXd_LVRRvY4JS0L1P-qzlOa59J2Vmok&cc=sEqbvw5gj4VEiJs1Ee6nfeSygOVTAPURxuWcpHpFgV8>https://code.earthengine.google.com/client-auth?scopes=https%3A//www.googleapis.com/auth/earthengine%20https%3A//www.googleapis.com/auth/cloud-platform%20https%3A//www.googleapis.com/auth/devstorage.full_control&request_id=_BkUwK4yMGsc1w9ypY0E6IGae-ZcmLwm0cvK01q4P-8&tc=P2yT4QAu3QbpFXd_LVRRvY4JS0L1P-qzlOa59J2Vmok&cc=sEqbvw5gj4VEiJs1Ee6nfeSygOVTAPURxuWcpHpFgV8</a></p>\n",
       "        <p>The authorization workflow will generate a code, which you should paste in the box below.</p>\n",
       "        "
      ],
      "text/plain": [
       "<IPython.core.display.HTML object>"
      ]
     },
     "metadata": {},
     "output_type": "display_data"
    },
    {
     "name": "stdin",
     "output_type": "stream",
     "text": [
      "Enter verification code:  4/1AVGzR1DHkapIFp4BKggFAxwdmkkuDubipJiAF9x_wIl9xPRexb3ZJvHxy0o\n"
     ]
    },
    {
     "name": "stdout",
     "output_type": "stream",
     "text": [
      "\n",
      "Successfully saved authorization token.\n"
     ]
    }
   ],
   "source": [
    "# Provide your GEE authentificaton\n",
    "import ee\n",
    "ee.Authenticate(force=True)"
   ]
  },
  {
   "cell_type": "code",
   "execution_count": 4,
   "metadata": {},
   "outputs": [],
   "source": [
    "ee.Initialize()"
   ]
  },
  {
   "cell_type": "code",
   "execution_count": 33,
   "metadata": {},
   "outputs": [],
   "source": [
    "# import LEAF modules\n",
    "import LEAF\n",
    "\n",
    "# # import algorithm definitions\n",
    "import SL2PV0 \n",
    "import SL2PV1\n",
    "import SL2PV1MIX\n",
    "import SL2PV1DBF\n",
    "import SL2PV1ENF"
   ]
  },
  {
   "cell_type": "markdown",
   "metadata": {},
   "source": [
    "## Run LEAF "
   ]
  },
  {
   "cell_type": "code",
   "execution_count": 14,
   "metadata": {
    "collapsed": true,
    "jupyter": {
     "outputs_hidden": true
    }
   },
   "outputs": [],
   "source": [
    "# Function definition\n",
    "#\n",
    "# status = LEAF.sampleSites([\"projects/ee-modis250/assets/Anderson/Anderson_August2018\"],\n",
    "#                                     sensorName = 'S2', \n",
    "#                                     imageCollectionName=\"COPERNICUS/S2_SR_HARMONIZED\",\n",
    "#                                     outputPath='LEAFAnderson',\n",
    "#                                     algorithm=SL2PV0, \\\n",
    "#                                     variableName=\"LAI\",\n",
    "#                                     featureRange=[0,np.nan], \n",
    "#                                     maxCloudcover=80,\n",
    "#                                     outputScale=20,\n",
    "#                                     exportDevice='CloudStorage',\n",
    "#                                     prefixProperty='PlotID',\n",
    "#                                     inputScale=20,\n",
    "#                                     bufferSpatialSize=60,\n",
    "#                                     subsamplingFraction=1,\n",
    "#                                     numPixels=0,\n",
    "#                                     bufferTemporalSize=[-10,10],\n",
    "#                                     calendarRange=[1,12,'month'],\n",
    "#                                     timeZone='Etc/GMT+6',\n",
    "#                                     shardSize='YS')\n",
    "#\n",
    "# Applies a LEAF toolbox algorithm to map a canopy variable for all clear sky unmasked pixels from an input image collection\n",
    "# falling within the spatial and temporal extents of features in a list of sites.  The spatial extent of features is defined by their GEE geometry.  \n",
    "# The temporal extent of features is defined by their \"system:time_start\" and \"system:time_end\" properties or user defined otherwise.\n",
    "#\n",
    "# Parameters:\n",
    "#\n",
    "# siteList: list of readable GEE feature collection assets.  Features must have a system:time_start and system:time_end property i\n",
    "# sensorName: User provided sensor name\n",
    "# imageCollectionName: input image collection name from one of the list defined by GEE\n",
    "#                 [\"COPERNICUS/S2_SR_HARMONIZED\",\"LANDSAT/LC08/C02/T1_L2\",\"LANDSAT/LC09/C02/T1_L2\",\"NASA/HLS/HLSL30/v002\"]\n",
    "# outputPathName: name of path (for Google Drive, GEE Asset) or bucket (for Google Cloud Platform Cloud Storage)\n",
    "# algorithm: python module specifying LEAF algorithm to apply , currently one of list [\"SL2PV0\",\"SL2PV1\",\"SL2PV1ENF\",\"SL2PV1DBF\",\"SL2PV1MIX\"]\n",
    "# variableName: variable to be mapped from one of the list [\"ALBEDO\",\"FAPAR\",\"FCOVER\",\"LAI\",\"CWC\",\"CCC\",\"DASF\"] defined by https://github.com/rfernand387/LEAF-Toolbox/wiki/Visualisation-Outputs        \n",
    "# feature_range: range of features in each site GEE feature collection to sample, use [0,np.nan] for all    \n",
    "# maxCloudCover: maximum input image cloud cover percentage [0,100]\n",
    "# outputScale: scale (m) applied to products after generating them using inputScale and before exporting (refer to https://developers.google.com/earth-engine/guides/scale)\n",
    "# exportDevice: either \"Drive\" for Google Drive, \"Asset\" for GEE Asset, or \"CloudStorage\" for Google Cloud Platform\n",
    "# prefixProperty: property name of features in siteList to use in output name as a unique identifier\n",
    "# inputScaleSize: scale (m) applied to input imagery before applying algorithm (refer to https://developers.google.com/earth-engine/guides/scale)\n",
    "# bufferSpatialSize: width (m) of spatial buffer applied to features prior to sampling\n",
    "# subsamplingFraction: fraction (0 to 1) of pixels to sample within a feature on any given image\n",
    "# numPixels: maximum number of pixels to sample within a feature, overrides subsampling fraction\n",
    "# bufferTemporalSize: Either dilation (days) of  date range specified by each system:time_start and system:time_end property OR temporal interval [\"YYYY-MM-DD\",\"YYYY-MM-DD\"] that overrides any feature specific intervals\n",
    "# calendarRange: [MM,MM,'month'] annual calendar range to restrict processing\n",
    "# timeZone: GEE time zone for all date computations https://developers.google.com/earth-engine/apidocs/ee-date-format\n",
    "# shardSize: size of temporal shards used for output, defaulted as individual years\n",
    "\n",
    "                                                                                                           \n",
    "# Output:\n",
    "#\n",
    "# One .CSV file for each feature for each shard (usually years spanning time period requested) with one row per sample per date \n",
    "# Columns:\n",
    "# system:index - feature systemLindex property\n",
    "# QC - LEAF QC flag , 0 indicates valid, else invalid\n",
    "# date - UNIX epoch time stamp (milliseconds since 1970-01-01) for time zone specified\n",
    "# errorXX - LEAF precision error for quantity XX\n",
    "# estimateXX - LEAF estimate for quantity xx\n",
    "# latitude - Latitude of product output pixel centroid , be sure to remember output scale\n",
    "# longitude - Longitude of product outpixel centroid, be sure to remember output scale\n",
    "# networkID - Neural network used for retrieval , this will vary with algorithm used\n",
    "# partition - Partition used to specify neural networks, degfaults to NALCMS land cover legend\n",
    "# s2cloudless_probability - S2Cloudless probability, only for \"COPERNICUS/S2_SR_HARMONIZED\"\n",
    "# .geo - geographic object for output sample, currently defaulted to a point\n",
    "\n"
   ]
  },
  {
   "cell_type": "code",
   "execution_count": null,
   "metadata": {},
   "outputs": [],
   "source": [
    "# Function definition\n",
    "#\n",
    "# status = LEAF.sampleImages([\"projects/ee-modis250/assets/Anderson/Anderson_August2018\"],\n",
    "#                                     sensorName = 'S2', \n",
    "#                                     imageCollectionName=\"COPERNICUS/S2_SR_HARMONIZED\",\n",
    "#                                     outputPath='LEAFAnderson',\n",
    "#                                     algorithm=SL2PV0, \\\n",
    "#                                     variableName=\"LAI\",\n",
    "#                                     featureRange=[0,np.nan], \n",
    "#                                     maxCloudcover=80,\n",
    "#                                     outputScale=20,\n",
    "#                                     exportDevice='CloudStorage',\n",
    "#                                     prefixProperty='PlotID',\n",
    "#                                     inputScale=20,\n",
    "#                                     bufferSpatialSize=60,\n",
    "#                                     subsamplingFraction=1,\n",
    "#                                     numPixels=0,\n",
    "#                                     bufferTemporalSize=[-10,10],\n",
    "#                                     calendarRange=[1,12,'month'],\n",
    "#                                     timeZone='Etc/GMT+6',\n",
    "#                                     shardSize='YS')\n",
    "#\n",
    "# Applies a LEAF toolbox algorithm to map a canopy variable for all clear sky unmasked pixels from an input image collection\n",
    "# falling within the spatial and temporal extents of features in a list of sites.  The spatial extent of features is defined by their GEE geometry.  \n",
    "# The temporal extent of features is defined by their \"system:time_start\" and \"system:time_end\" properties or user defined otherwise.\n",
    "#\n",
    "# Parameters:\n",
    "#\n",
    "# siteList: list of readable GEE feature collection assets.  Features must have a system:time_start and system:time_end property i\n",
    "# sensorName: User provided sensor name\n",
    "# imageCollectionName: input image collection name from one of the list defined by GEE\n",
    "#                 [\"COPERNICUS/S2_SR_HARMONIZED\",\"LANDSAT/LC08/C02/T1_L2\",\"LANDSAT/LC09/C02/T1_L2\",\"NASA/HLS/HLSL30/v002\"]\n",
    "# outputPathName: name of path (for Google Drive, GEE Asset) or bucket (for Google Cloud Platform Cloud Storage)\n",
    "# algorithm: python module specifying LEAF algorithm to apply , currently one of list [\"SL2PV0\",\"SL2PV1\",\"SL2PV1ENF\",\"SL2PV1DBF\",\"SL2PV1MIX\"]\n",
    "# variableName: variable to be mapped from one of the list [\"ALBEDO\",\"FAPAR\",\"FCOVER\",\"LAI\",\"CWC\",\"CCC\",\"DASF\"] defined by https://github.com/rfernand387/LEAF-Toolbox/wiki/Visualisation-Outputs        \n",
    "# feature_range: range of features in each site GEE feature collection to sample, use [0,np.nan] for all    \n",
    "# maxCloudCover: maximum input image cloud cover percentage [0,100]\n",
    "# outputScale: scale (m) applied to products after generating them using inputScale and before exporting (refer to https://developers.google.com/earth-engine/guides/scale)\n",
    "# exportDevice: either \"Drive\" for Google Drive, \"Asset\" for GEE Asset, or \"CloudStorage\" for Google Cloud Platform\n",
    "# prefixProperty: property name of features in siteList to use in output name as a unique identifier\n",
    "# inputScaleSize: scale (m) applied to input imagery before applying algorithm (refer to https://developers.google.com/earth-engine/guides/scale)\n",
    "# bufferSpatialSize: width (m) of spatial buffer applied to features prior to sampling\n",
    "# subsamplingFraction: fraction (0 to 1) of pixels to sample within a feature on any given image\n",
    "# numPixels: maximum number of pixels to sample within a feature, overrides subsampling fraction\n",
    "# bufferTemporalSize: Either dilation (days) of  date range specified by each system:time_start and system:time_end property OR temporal interval [\"YYYY-MM-DD\",\"YYYY-MM-DD\"] that overrides any feature specific intervals\n",
    "# calendarRange: [MM,MM,'month'] annual calendar range to restrict processing\n",
    "# timeZone: GEE time zone for all date computations https://developers.google.com/earth-engine/apidocs/ee-date-format\n",
    "# shardSize: size of temporal shards used for output, defaulted as individual years\n",
    "\n",
    "                                                                                                           \n",
    "# Output:\n",
    "#\n",
    "# One geotiff file for each feature for each shard (usually years spanning time period requested) with one row per sample per date \n",
    "# Layers:\n",
    "# system:index - feature systemLindex property\n",
    "# QC - LEAF QC flag , 0 indicates valid, else invalid\n",
    "# date - UNIX epoch time stamp (milliseconds since 1970-01-01) for time zone specified\n",
    "# errorXX - LEAF precision error for quantity XX\n",
    "# estimateXX - LEAF estimate for quantity xx\n",
    "# latitude - Latitude of product output pixel centroid , be sure to remember output scale\n",
    "# longitude - Longitude of product outpixel centroid, be sure to remember output scale\n",
    "# networkID - Neural network used for retrieval , this will vary with algorithm used\n",
    "# partition - Partition used to specify neural networks, degfaults to NALCMS land cover legend\n",
    "# s2cloudless_probability - S2Cloudless probability, only for \"COPERNICUS/S2_SR_HARMONIZED\"\n",
    "# .geo - geographic object for output sample, currently defaulted to a point"
   ]
  },
  {
   "cell_type": "markdown",
   "metadata": {},
   "source": [
    "### Run LEAF for 60m radius buffer around each site for +/-10d of field survey date using S2 data and output as CSV on GCP"
   ]
  },
  {
   "cell_type": "code",
   "execution_count": 34,
   "metadata": {
    "scrolled": true
   },
   "outputs": [
    {
     "name": "stdout",
     "output_type": "stream",
     "text": [
      "STARTING LEAF.sampleSites using  COPERNICUS/S2_SR_HARMONIZED\n",
      "Site:  projects/ee-modis250/assets/Anderson/Anderson_August2018  with  30  features.\n"
     ]
    },
    {
     "ename": "NameError",
     "evalue": "name 'outputDevice' is not defined",
     "output_type": "error",
     "traceback": [
      "\u001b[1;31m---------------------------------------------------------------------------\u001b[0m",
      "\u001b[1;31mNameError\u001b[0m                                 Traceback (most recent call last)",
      "Input \u001b[1;32mIn [34]\u001b[0m, in \u001b[0;36m<cell line: 1>\u001b[1;34m()\u001b[0m\n\u001b[1;32m----> 1\u001b[0m status \u001b[38;5;241m=\u001b[39m \u001b[43mLEAF\u001b[49m\u001b[38;5;241;43m.\u001b[39;49m\u001b[43msampleSites\u001b[49m\u001b[43m(\u001b[49m\u001b[43m[\u001b[49m\u001b[38;5;124;43m\"\u001b[39;49m\u001b[38;5;124;43mprojects/ee-modis250/assets/Anderson/Anderson_August2018\u001b[39;49m\u001b[38;5;124;43m\"\u001b[39;49m\u001b[43m]\u001b[49m\u001b[43m,\u001b[49m\n\u001b[0;32m      2\u001b[0m \u001b[43m                                    \u001b[49m\u001b[43msensorName\u001b[49m\u001b[43m \u001b[49m\u001b[38;5;241;43m=\u001b[39;49m\u001b[43m \u001b[49m\u001b[38;5;124;43m'\u001b[39;49m\u001b[38;5;124;43mS2x\u001b[39;49m\u001b[38;5;124;43m'\u001b[39;49m\u001b[43m,\u001b[49m\u001b[43m \u001b[49m\n\u001b[0;32m      3\u001b[0m \u001b[43m                                    \u001b[49m\u001b[43mimageCollectionName\u001b[49m\u001b[38;5;241;43m=\u001b[39;49m\u001b[38;5;124;43m\"\u001b[39;49m\u001b[38;5;124;43mCOPERNICUS/S2_SR_HARMONIZED\u001b[39;49m\u001b[38;5;124;43m\"\u001b[39;49m\u001b[43m,\u001b[49m\n\u001b[0;32m      4\u001b[0m \u001b[43m                                    \u001b[49m\u001b[43moutputPath\u001b[49m\u001b[38;5;241;43m=\u001b[39;49m\u001b[38;5;124;43m'\u001b[39;49m\u001b[38;5;124;43mLEAFAnderson\u001b[39;49m\u001b[38;5;124;43m'\u001b[39;49m\u001b[43m,\u001b[49m\n\u001b[0;32m      5\u001b[0m \u001b[43m                                    \u001b[49m\u001b[43malgorithm\u001b[49m\u001b[38;5;241;43m=\u001b[39;49m\u001b[43mSL2PV0\u001b[49m\u001b[43m,\u001b[49m\u001b[43m \u001b[49m\u001b[43m\\\u001b[49m\n\u001b[0;32m      6\u001b[0m \u001b[43m                                    \u001b[49m\u001b[43mvariableName\u001b[49m\u001b[38;5;241;43m=\u001b[39;49m\u001b[38;5;124;43m\"\u001b[39;49m\u001b[38;5;124;43mLAI\u001b[39;49m\u001b[38;5;124;43m\"\u001b[39;49m\u001b[43m,\u001b[49m\n\u001b[0;32m      7\u001b[0m \u001b[43m                                    \u001b[49m\u001b[43mfeatureRange\u001b[49m\u001b[38;5;241;43m=\u001b[39;49m\u001b[43m[\u001b[49m\u001b[38;5;241;43m0\u001b[39;49m\u001b[43m,\u001b[49m\u001b[38;5;241;43m30\u001b[39;49m\u001b[43m]\u001b[49m\u001b[43m,\u001b[49m\u001b[43m \u001b[49m\n\u001b[0;32m      8\u001b[0m \u001b[43m                                    \u001b[49m\u001b[43mmaxCloudcover\u001b[49m\u001b[38;5;241;43m=\u001b[39;49m\u001b[38;5;241;43m80\u001b[39;49m\u001b[43m,\u001b[49m\n\u001b[0;32m      9\u001b[0m \u001b[43m                                    \u001b[49m\u001b[43moutputScale\u001b[49m\u001b[38;5;241;43m=\u001b[39;49m\u001b[38;5;241;43m20\u001b[39;49m\u001b[43m,\u001b[49m\n\u001b[0;32m     10\u001b[0m \u001b[43m                                    \u001b[49m\u001b[43mexportDevice\u001b[49m\u001b[38;5;241;43m=\u001b[39;49m\u001b[38;5;124;43m'\u001b[39;49m\u001b[38;5;124;43mCloudStorage\u001b[39;49m\u001b[38;5;124;43m'\u001b[39;49m\u001b[43m,\u001b[49m\n\u001b[0;32m     11\u001b[0m \u001b[43m                                    \u001b[49m\u001b[43mprefixProperty\u001b[49m\u001b[38;5;241;43m=\u001b[39;49m\u001b[38;5;124;43m'\u001b[39;49m\u001b[38;5;124;43mPlotID\u001b[39;49m\u001b[38;5;124;43m'\u001b[39;49m\u001b[43m,\u001b[49m\n\u001b[0;32m     12\u001b[0m \u001b[43m                                    \u001b[49m\u001b[43minputScale\u001b[49m\u001b[38;5;241;43m=\u001b[39;49m\u001b[38;5;241;43m20\u001b[39;49m\u001b[43m,\u001b[49m\n\u001b[0;32m     13\u001b[0m \u001b[43m                                    \u001b[49m\u001b[43mbufferSpatialSize\u001b[49m\u001b[38;5;241;43m=\u001b[39;49m\u001b[38;5;241;43m60\u001b[39;49m\u001b[43m,\u001b[49m\n\u001b[0;32m     14\u001b[0m \u001b[43m                                    \u001b[49m\u001b[43msubsamplingFraction\u001b[49m\u001b[38;5;241;43m=\u001b[39;49m\u001b[38;5;241;43m1\u001b[39;49m\u001b[43m,\u001b[49m\n\u001b[0;32m     15\u001b[0m \u001b[43m                                    \u001b[49m\u001b[43mnumPixels\u001b[49m\u001b[38;5;241;43m=\u001b[39;49m\u001b[38;5;241;43m0\u001b[39;49m\u001b[43m,\u001b[49m\n\u001b[0;32m     16\u001b[0m \u001b[43m                                    \u001b[49m\u001b[43mbufferTemporalSize\u001b[49m\u001b[38;5;241;43m=\u001b[39;49m\u001b[43m[\u001b[49m\u001b[38;5;241;43m-\u001b[39;49m\u001b[38;5;241;43m10\u001b[39;49m\u001b[43m,\u001b[49m\u001b[38;5;241;43m10\u001b[39;49m\u001b[43m]\u001b[49m\u001b[43m,\u001b[49m\n\u001b[0;32m     17\u001b[0m \u001b[43m                                    \u001b[49m\u001b[43mcalendarRange\u001b[49m\u001b[38;5;241;43m=\u001b[39;49m\u001b[43m[\u001b[49m\u001b[38;5;241;43m1\u001b[39;49m\u001b[43m,\u001b[49m\u001b[38;5;241;43m12\u001b[39;49m\u001b[43m,\u001b[49m\u001b[38;5;124;43m'\u001b[39;49m\u001b[38;5;124;43mmonth\u001b[39;49m\u001b[38;5;124;43m'\u001b[39;49m\u001b[43m]\u001b[49m\u001b[43m,\u001b[49m\n\u001b[0;32m     18\u001b[0m \u001b[43m                                    \u001b[49m\u001b[43mtimeZone\u001b[49m\u001b[38;5;241;43m=\u001b[39;49m\u001b[38;5;124;43m'\u001b[39;49m\u001b[38;5;124;43mEtc/GMT+6\u001b[39;49m\u001b[38;5;124;43m'\u001b[39;49m\u001b[43m,\u001b[49m\n\u001b[0;32m     19\u001b[0m \u001b[43m                                    \u001b[49m\u001b[43mshardSize\u001b[49m\u001b[38;5;241;43m=\u001b[39;49m\u001b[38;5;124;43m'\u001b[39;49m\u001b[38;5;124;43mYS\u001b[39;49m\u001b[38;5;124;43m'\u001b[39;49m\u001b[43m)\u001b[49m\n",
      "File \u001b[1;32mD:\\leaftoolbox\\LEAF-Toolbox-master\\Source-Python\\LEAF.py:363\u001b[0m, in \u001b[0;36msampleSites\u001b[1;34m(siteList, imageCollectionName, sensorName, outputPath, algorithm, variableName, featureRange, maxCloudcover, outputScale, exportDevice, prefixProperty, inputScale, bufferSpatialSize, subsamplingFraction, numPixels, bufferTemporalSize, calendarRange, timeZone, shardSize)\u001b[0m\n\u001b[0;32m    359\u001b[0m featureRange[1]=np.int32(np.nanmin([featureRange[1],sampleRecords.size().getInfo()]))\n\u001b[0;32m    361\u001b[0m #  if local output initalize empty list for outputs, define output file name  , and write metadata of this run       \n\u001b[0;32m    362\u001b[0m if ( exportDevice in ['local'] ):\n\u001b[1;32m--> 363\u001b[0m     # parse output path\n\u001b[0;32m    364\u001b[0m     if outputPath==None:\n\u001b[0;32m    365\u001b[0m         outputPathName=os.getcwd()\n",
      "\u001b[1;31mNameError\u001b[0m: name 'outputDevice' is not defined"
     ]
    }
   ],
   "source": [
    "status = LEAF.sampleSites([\"projects/ee-modis250/assets/Anderson/Anderson_August2018\"],\n",
    "                                    sensorName = 'S2x', \n",
    "                                    imageCollectionName=\"COPERNICUS/S2_SR_HARMONIZED\",\n",
    "                                    outputPath='LEAFAnderson',\n",
    "                                    algorithm=SL2PV0, \\\n",
    "                                    variableName=\"LAI\",\n",
    "                                    featureRange=[0,30], \n",
    "                                    maxCloudcover=80,\n",
    "                                    outputScale=20,\n",
    "                                    exportDevice='CloudStorage',\n",
    "                                    prefixProperty='PlotID',\n",
    "                                    inputScale=20,\n",
    "                                    bufferSpatialSize=60,\n",
    "                                    subsamplingFraction=1,\n",
    "                                    numPixels=0,\n",
    "                                    bufferTemporalSize=[-10,10],\n",
    "                                    calendarRange=[1,12,'month'],\n",
    "                                    timeZone='Etc/GMT+6',\n",
    "                                    shardSize='YS')"
   ]
  },
  {
   "cell_type": "markdown",
   "metadata": {},
   "source": [
    "### Run LEAF for 60m radius buffer around each site for April to September 2018 using S2 data and output as CSV on GCP"
   ]
  },
  {
   "cell_type": "code",
   "execution_count": 22,
   "metadata": {},
   "outputs": [
    {
     "name": "stdout",
     "output_type": "stream",
     "text": [
      "STARTING LEAF.sampleSites using  COPERNICUS/S2_SR_HARMONIZED\n",
      "Site:  projects/ee-modis250/assets/Anderson/Anderson_May2018  with  30  features.\n",
      "Processing Features: from 0 to 30\n",
      "Feature n°: 0/30  -- startDate: 2018-03-01 00:00:00 -- endDate: 2019-03-01 00:00:00\n",
      "----------------------------------------------------------------------------------------------------------\n",
      "Sampling from  2018-03-01 00:00:00  to  2019-03-01 00:00:00\n",
      "Export task started with ID: TDOAQ2FQTCSUY6EARXOLLG6M\n",
      "Feature n°: 1/30  -- startDate: 2018-03-01 00:00:00 -- endDate: 2019-03-01 00:00:00\n",
      "----------------------------------------------------------------------------------------------------------\n",
      "Sampling from  2018-03-01 00:00:00  to  2019-03-01 00:00:00\n",
      "Export task started with ID: KYNH6MAXGMLUYAEKELQNLHL7\n",
      "Feature n°: 2/30  -- startDate: 2018-03-01 00:00:00 -- endDate: 2019-03-01 00:00:00\n",
      "----------------------------------------------------------------------------------------------------------\n",
      "Sampling from  2018-03-01 00:00:00  to  2019-03-01 00:00:00\n",
      "Export task started with ID: WWANH7YCZRRONUNTQY4U6NZF\n",
      "Feature n°: 3/30  -- startDate: 2018-03-01 00:00:00 -- endDate: 2019-03-01 00:00:00\n",
      "----------------------------------------------------------------------------------------------------------\n",
      "Sampling from  2018-03-01 00:00:00  to  2019-03-01 00:00:00\n",
      "Export task started with ID: YT2TEXBA4FSBIPTQ3RGOPRRC\n",
      "Feature n°: 4/30  -- startDate: 2018-03-01 00:00:00 -- endDate: 2019-03-01 00:00:00\n",
      "----------------------------------------------------------------------------------------------------------\n",
      "Sampling from  2018-03-01 00:00:00  to  2019-03-01 00:00:00\n",
      "Export task started with ID: I2XIOLQO5M2AH3ZV2FQQQIHP\n",
      "Feature n°: 5/30  -- startDate: 2018-03-01 00:00:00 -- endDate: 2019-03-01 00:00:00\n",
      "----------------------------------------------------------------------------------------------------------\n",
      "Sampling from  2018-03-01 00:00:00  to  2019-03-01 00:00:00\n",
      "Export task started with ID: 4J3T5FC2DKIV53UQ4MTLWJ3B\n",
      "Feature n°: 6/30  -- startDate: 2018-03-01 00:00:00 -- endDate: 2019-03-01 00:00:00\n",
      "----------------------------------------------------------------------------------------------------------\n",
      "Sampling from  2018-03-01 00:00:00  to  2019-03-01 00:00:00\n",
      "Export task started with ID: USL2ISOBJJ5GIRKGDAAJONHJ\n",
      "Feature n°: 7/30  -- startDate: 2018-03-01 00:00:00 -- endDate: 2019-03-01 00:00:00\n",
      "----------------------------------------------------------------------------------------------------------\n",
      "Sampling from  2018-03-01 00:00:00  to  2019-03-01 00:00:00\n",
      "Export task started with ID: K6Z6UKSTPSOHZRPJPISAOLIN\n",
      "Feature n°: 8/30  -- startDate: 2018-03-01 00:00:00 -- endDate: 2019-03-01 00:00:00\n",
      "----------------------------------------------------------------------------------------------------------\n",
      "Sampling from  2018-03-01 00:00:00  to  2019-03-01 00:00:00\n",
      "Export task started with ID: NZ3QNH5SNI6UGBE3VVBTQQRF\n",
      "Feature n°: 9/30  -- startDate: 2018-03-01 00:00:00 -- endDate: 2019-03-01 00:00:00\n",
      "----------------------------------------------------------------------------------------------------------\n",
      "Sampling from  2018-03-01 00:00:00  to  2019-03-01 00:00:00\n",
      "Export task started with ID: FNQYRJVNFGW5EFWPS5F2CYBY\n",
      "Feature n°: 10/30  -- startDate: 2018-03-01 00:00:00 -- endDate: 2019-03-01 00:00:00\n",
      "----------------------------------------------------------------------------------------------------------\n",
      "Sampling from  2018-03-01 00:00:00  to  2019-03-01 00:00:00\n",
      "Export task started with ID: RYNEHSTM6L36AZQKZT2NF22W\n",
      "Feature n°: 11/30  -- startDate: 2018-03-01 00:00:00 -- endDate: 2019-03-01 00:00:00\n",
      "----------------------------------------------------------------------------------------------------------\n",
      "Sampling from  2018-03-01 00:00:00  to  2019-03-01 00:00:00\n",
      "Export task started with ID: QLEG3CQNUJ6EHNONJUASWWWH\n",
      "Feature n°: 12/30  -- startDate: 2018-03-01 00:00:00 -- endDate: 2019-03-01 00:00:00\n",
      "----------------------------------------------------------------------------------------------------------\n",
      "Sampling from  2018-03-01 00:00:00  to  2019-03-01 00:00:00\n",
      "Export task started with ID: 4ISEJBUFWRIS3XPEYOKCCYLD\n",
      "Feature n°: 13/30  -- startDate: 2018-03-01 00:00:00 -- endDate: 2019-03-01 00:00:00\n",
      "----------------------------------------------------------------------------------------------------------\n",
      "Sampling from  2018-03-01 00:00:00  to  2019-03-01 00:00:00\n",
      "Export task started with ID: PD4EOB4DSJHRNJPYKGEEW3HI\n",
      "Feature n°: 14/30  -- startDate: 2018-03-01 00:00:00 -- endDate: 2019-03-01 00:00:00\n",
      "----------------------------------------------------------------------------------------------------------\n",
      "Sampling from  2018-03-01 00:00:00  to  2019-03-01 00:00:00\n",
      "Export task started with ID: CS2HCFPLRDUOUQFDQ3UL26IL\n",
      "Feature n°: 15/30  -- startDate: 2018-03-01 00:00:00 -- endDate: 2019-03-01 00:00:00\n",
      "----------------------------------------------------------------------------------------------------------\n",
      "Sampling from  2018-03-01 00:00:00  to  2019-03-01 00:00:00\n",
      "Export task started with ID: O6KK5DZBZPUWNPNTXQN6JODF\n",
      "Feature n°: 16/30  -- startDate: 2018-03-01 00:00:00 -- endDate: 2019-03-01 00:00:00\n",
      "----------------------------------------------------------------------------------------------------------\n",
      "Sampling from  2018-03-01 00:00:00  to  2019-03-01 00:00:00\n",
      "Export task started with ID: FSUDYF4H2IGXBL5PL5U7SHSL\n",
      "Feature n°: 17/30  -- startDate: 2018-03-01 00:00:00 -- endDate: 2019-03-01 00:00:00\n",
      "----------------------------------------------------------------------------------------------------------\n",
      "Sampling from  2018-03-01 00:00:00  to  2019-03-01 00:00:00\n",
      "Export task started with ID: 4U7JKWIRYDAZUJA7UO43W6YU\n",
      "Feature n°: 18/30  -- startDate: 2018-03-01 00:00:00 -- endDate: 2019-03-01 00:00:00\n",
      "----------------------------------------------------------------------------------------------------------\n",
      "Sampling from  2018-03-01 00:00:00  to  2019-03-01 00:00:00\n",
      "Export task started with ID: QMKZ2NT4L6MCX3PTFCDTBGSY\n",
      "Feature n°: 19/30  -- startDate: 2018-03-01 00:00:00 -- endDate: 2019-03-01 00:00:00\n",
      "----------------------------------------------------------------------------------------------------------\n",
      "Sampling from  2018-03-01 00:00:00  to  2019-03-01 00:00:00\n",
      "Export task started with ID: XEK77EH5O4AGD5RSDEDUTXHG\n",
      "Feature n°: 20/30  -- startDate: 2018-03-01 00:00:00 -- endDate: 2019-03-01 00:00:00\n",
      "----------------------------------------------------------------------------------------------------------\n",
      "Sampling from  2018-03-01 00:00:00  to  2019-03-01 00:00:00\n",
      "Export task started with ID: NCXBOFSKHBOJPU5E4PI6SFA6\n",
      "Feature n°: 21/30  -- startDate: 2018-03-01 00:00:00 -- endDate: 2019-03-01 00:00:00\n",
      "----------------------------------------------------------------------------------------------------------\n",
      "Sampling from  2018-03-01 00:00:00  to  2019-03-01 00:00:00\n",
      "Export task started with ID: O52VKN36J4V3GQQDQWCJZJQJ\n",
      "Feature n°: 22/30  -- startDate: 2018-03-01 00:00:00 -- endDate: 2019-03-01 00:00:00\n",
      "----------------------------------------------------------------------------------------------------------\n",
      "Sampling from  2018-03-01 00:00:00  to  2019-03-01 00:00:00\n",
      "Export task started with ID: 234DUKLI65VY4DLLXNZS7QFJ\n",
      "Feature n°: 23/30  -- startDate: 2018-03-01 00:00:00 -- endDate: 2019-03-01 00:00:00\n",
      "----------------------------------------------------------------------------------------------------------\n",
      "Sampling from  2018-03-01 00:00:00  to  2019-03-01 00:00:00\n",
      "Export task started with ID: HQJHCS33IIX2GVPWYM6SKRQR\n",
      "Feature n°: 24/30  -- startDate: 2018-03-01 00:00:00 -- endDate: 2019-03-01 00:00:00\n",
      "----------------------------------------------------------------------------------------------------------\n",
      "Sampling from  2018-03-01 00:00:00  to  2019-03-01 00:00:00\n",
      "Export task started with ID: NUYYWA7DAJGBPWQVW6ELWOYS\n",
      "Feature n°: 25/30  -- startDate: 2018-03-01 00:00:00 -- endDate: 2019-03-01 00:00:00\n",
      "----------------------------------------------------------------------------------------------------------\n",
      "Sampling from  2018-03-01 00:00:00  to  2019-03-01 00:00:00\n",
      "Export task started with ID: KBIMPAGXB6TSQCZPC2SZT3Q7\n",
      "Feature n°: 26/30  -- startDate: 2018-03-01 00:00:00 -- endDate: 2019-03-01 00:00:00\n",
      "----------------------------------------------------------------------------------------------------------\n",
      "Sampling from  2018-03-01 00:00:00  to  2019-03-01 00:00:00\n",
      "Export task started with ID: 36EEZGS7TCASOWBT2NIO2UT5\n",
      "Feature n°: 27/30  -- startDate: 2018-03-01 00:00:00 -- endDate: 2019-03-01 00:00:00\n",
      "----------------------------------------------------------------------------------------------------------\n",
      "Sampling from  2018-03-01 00:00:00  to  2019-03-01 00:00:00\n",
      "Export task started with ID: BYDJMZ63DRFC6QH62VQZUL3S\n",
      "Feature n°: 28/30  -- startDate: 2018-03-01 00:00:00 -- endDate: 2019-03-01 00:00:00\n",
      "----------------------------------------------------------------------------------------------------------\n",
      "Sampling from  2018-03-01 00:00:00  to  2019-03-01 00:00:00\n",
      "Export task started with ID: PPIPCOYHI7BHNMZLATE5J7LC\n",
      "Feature n°: 29/30  -- startDate: 2018-03-01 00:00:00 -- endDate: 2019-03-01 00:00:00\n",
      "----------------------------------------------------------------------------------------------------------\n",
      "Sampling from  2018-03-01 00:00:00  to  2019-03-01 00:00:00\n",
      "Export task started with ID: 7VGZZBYSDWXHT5UO5Z3UN6AS\n",
      "\n",
      "DONE LEAF.sampleSites\n",
      "\n"
     ]
    }
   ],
   "source": [
    " status = LEAF.sampleSites([\"projects/ee-modis250/assets/Anderson/Anderson_August2018\"]\n",
    "                                    sensorName = 'S2', \n",
    "                                    imageCollectionName=\"COPERNICUS/S2_SR_HARMONIZED\",\n",
    "                                    outputPath='LEAFAnderson',\n",
    "                                    algorithm=SL2PV0, \\\n",
    "                                    variableName=\"LAI\",\n",
    "                                    featureRange=[0,30], \n",
    "                                    maxCloudcover=80,\n",
    "                                    outputScale=20,\n",
    "                                    exportDevice='CloudStorage',\n",
    "                                    prefixProperty='PlotID',\n",
    "                                    inputScale=20,\n",
    "                                    bufferSpatialSize=60,\n",
    "                                    subsamplingFraction=1,\n",
    "                                    numPixels=0,\n",
    "                                    bufferTemporalSize=[\"2018-03-01\",\"2019-03-01\"],\n",
    "                                    calendarRange=[4,9,'month'],\n",
    "                                    timeZone='Etc/GMT+6',\n",
    "                                    shardSize='YS')"
   ]
  },
  {
   "cell_type": "markdown",
   "metadata": {},
   "source": [
    "### Run LEAF for Study Region for July and August 2018 and output as geotiff on GCP"
   ]
  },
  {
   "cell_type": "code",
   "execution_count": 29,
   "metadata": {},
   "outputs": [
    {
     "name": "stdout",
     "output_type": "stream",
     "text": [
      "STARTING LEAF.imageSites using  COPERNICUS/S2_SR_HARMONIZED\n",
      "Site:  projects/ee-modis250/assets/Anderson/AndersonRegion  with  1  features.\n",
      "Processing Features: from 0 to 1\n",
      "Feature n°: 0/1  -- startDate: 2018-03-01 00:00:00 -- endDate: 2019-03-01 00:00:00\n",
      "----------------------------------------------------------------------------------------------------------\n",
      "Mapping from  2018-03-01 00:00:00  to  2019-03-01 00:00:00\n",
      "Export task started with ID: E7BZWE7KO2GY3VLAPYN7HLVZ\n",
      "Export task started with ID: CDOOMC476XMW4J4XCYRMWWQP\n",
      "Export task started with ID: REMENDIA7ENBJRCZMWBQKYVT\n",
      "Export task started with ID: ID73YX2UBA4ECYEGMZCUD3EP\n",
      "Export task started with ID: HGNDRMDMCWZMPPUWY2VUS76T\n",
      "Export task started with ID: 2EZOQGSEPOWZSTUMFGWJCKH7\n",
      "Export task started with ID: CDMQTXGMZFJ7M5I4OEGU2A4T\n",
      "Export task started with ID: GJ2ETSEIPGVCVZMSJGFQDFIY\n",
      "Export task started with ID: XNYAEXD4EWJVRBG7HDLFKYX5\n",
      "Export task started with ID: UU5SHCM6T4WRMPVWINKGPU7R\n",
      "Export task started with ID: CAYW3KXMKE22YHMW2DVRNNFJ\n",
      "Export task started with ID: OQQ3BWHR7AYL3FUQFZFEFLWH\n",
      "Export task started with ID: 3APZEEM4K3YZHRXQDLWL4G5Z\n",
      "Export task started with ID: KEYXHVXRH3H56LW6YETCXPEU\n",
      "Export task started with ID: QRIMGPMVKJXXNBSMA6IPRLCZ\n",
      "Export task started with ID: 7PELWTBLVYSTY6TB5FWGLZYB\n",
      "Export task started with ID: WWNZSNJVLMZSB3KS433LEE5R\n",
      "\n",
      "DONE LEAF.sites\n",
      "\n"
     ]
    }
   ],
   "source": [
    "HLSL30LAIV0_2025= LEAF.imageSites([\"projects/ee-modis250/assets/Anderson/AndersonRegion\"], \\\n",
    "                                    imageCollectionName=\"COPERNICUS/S2_SR_HARMONIZED\",\\\n",
    "                                    sensorName = 'S2', \\\n",
    "                                    outputPath='LEAFAnderson',\n",
    "                                    algorithm=SL2PV0, \\\n",
    "                                    variableName=\"LAI\",\\\n",
    "                                    featureRange=[0,1], \\\n",
    "                                    maxCloudcover=80,\\\n",
    "                                    outputScale=20,\\\n",
    "                                    exportDevice='CloudStorage',\n",
    "                                    prefixProperty='system:index',\n",
    "                                    inputScale=20,\n",
    "                                    bufferSpatialSize=0,\n",
    "                                    bufferTemporalSize=['2018-03-01','2019-03-01'],\n",
    "                                    calendarRange=[7,8,'month'],\n",
    "                                    timeZone='Etc/GMT+6',\n",
    "                                    shardSize='YS')"
   ]
  }
 ],
 "metadata": {
  "kernelspec": {
   "display_name": "Python 3 (ipykernel)",
   "language": "python",
   "name": "python3"
  },
  "language_info": {
   "codemirror_mode": {
    "name": "ipython",
    "version": 3
   },
   "file_extension": ".py",
   "mimetype": "text/x-python",
   "name": "python",
   "nbconvert_exporter": "python",
   "pygments_lexer": "ipython3",
   "version": "3.10.6"
  }
 },
 "nbformat": 4,
 "nbformat_minor": 4
}
